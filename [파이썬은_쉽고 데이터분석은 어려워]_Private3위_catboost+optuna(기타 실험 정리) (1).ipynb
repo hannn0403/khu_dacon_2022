{
  "nbformat": 4,
  "nbformat_minor": 0,
  "metadata": {
    "colab": {
      "name": "catboost_optuna.ipynb",
      "provenance": [],
      "collapsed_sections": [],
      "machine_shape": "hm"
    },
    "kernelspec": {
      "name": "python3",
      "display_name": "Python 3"
    },
    "language_info": {
      "name": "python"
    },
    "accelerator": "GPU"
  },
  "cells": [
    {
      "cell_type": "markdown",
      "source": [
        "## 환경세팅"
      ],
      "metadata": {
        "id": "j8MDBbZi2P3j"
      }
    },
    {
      "cell_type": "code",
      "execution_count": 1,
      "metadata": {
        "id": "fZVgWHMXKZL-",
        "colab": {
          "base_uri": "https://localhost:8080/"
        },
        "outputId": "b4e0a4eb-15a9-4903-ce1a-215a85e6f201"
      },
      "outputs": [
        {
          "output_type": "stream",
          "name": "stdout",
          "text": [
            "Mounted at /content/drive\n"
          ]
        }
      ],
      "source": [
        "from google.colab import drive\n",
        "drive.mount('/content/drive')"
      ]
    },
    {
      "cell_type": "code",
      "source": [
        "!pip install catboost\n",
        "!pip install category_encoders"
      ],
      "metadata": {
        "id": "uDovLNCdKctM",
        "colab": {
          "base_uri": "https://localhost:8080/"
        },
        "outputId": "27c806df-e5c7-488f-b499-69d5ff8da275"
      },
      "execution_count": 2,
      "outputs": [
        {
          "output_type": "stream",
          "name": "stdout",
          "text": [
            "Looking in indexes: https://pypi.org/simple, https://us-python.pkg.dev/colab-wheels/public/simple/\n",
            "Collecting catboost\n",
            "  Downloading catboost-1.0.6-cp37-none-manylinux1_x86_64.whl (76.6 MB)\n",
            "\u001b[K     |████████████████████████████████| 76.6 MB 1.1 MB/s \n",
            "\u001b[?25hRequirement already satisfied: graphviz in /usr/local/lib/python3.7/dist-packages (from catboost) (0.10.1)\n",
            "Requirement already satisfied: pandas>=0.24.0 in /usr/local/lib/python3.7/dist-packages (from catboost) (1.3.5)\n",
            "Requirement already satisfied: plotly in /usr/local/lib/python3.7/dist-packages (from catboost) (5.5.0)\n",
            "Requirement already satisfied: matplotlib in /usr/local/lib/python3.7/dist-packages (from catboost) (3.2.2)\n",
            "Requirement already satisfied: numpy>=1.16.0 in /usr/local/lib/python3.7/dist-packages (from catboost) (1.21.6)\n",
            "Requirement already satisfied: six in /usr/local/lib/python3.7/dist-packages (from catboost) (1.15.0)\n",
            "Requirement already satisfied: scipy in /usr/local/lib/python3.7/dist-packages (from catboost) (1.4.1)\n",
            "Requirement already satisfied: pytz>=2017.3 in /usr/local/lib/python3.7/dist-packages (from pandas>=0.24.0->catboost) (2022.1)\n",
            "Requirement already satisfied: python-dateutil>=2.7.3 in /usr/local/lib/python3.7/dist-packages (from pandas>=0.24.0->catboost) (2.8.2)\n",
            "Requirement already satisfied: pyparsing!=2.0.4,!=2.1.2,!=2.1.6,>=2.0.1 in /usr/local/lib/python3.7/dist-packages (from matplotlib->catboost) (3.0.9)\n",
            "Requirement already satisfied: cycler>=0.10 in /usr/local/lib/python3.7/dist-packages (from matplotlib->catboost) (0.11.0)\n",
            "Requirement already satisfied: kiwisolver>=1.0.1 in /usr/local/lib/python3.7/dist-packages (from matplotlib->catboost) (1.4.2)\n",
            "Requirement already satisfied: typing-extensions in /usr/local/lib/python3.7/dist-packages (from kiwisolver>=1.0.1->matplotlib->catboost) (4.2.0)\n",
            "Requirement already satisfied: tenacity>=6.2.0 in /usr/local/lib/python3.7/dist-packages (from plotly->catboost) (8.0.1)\n",
            "Installing collected packages: catboost\n",
            "Successfully installed catboost-1.0.6\n",
            "Looking in indexes: https://pypi.org/simple, https://us-python.pkg.dev/colab-wheels/public/simple/\n",
            "Collecting category_encoders\n",
            "  Downloading category_encoders-2.4.1-py2.py3-none-any.whl (80 kB)\n",
            "\u001b[K     |████████████████████████████████| 80 kB 5.3 MB/s \n",
            "\u001b[?25hRequirement already satisfied: pandas>=0.21.1 in /usr/local/lib/python3.7/dist-packages (from category_encoders) (1.3.5)\n",
            "Requirement already satisfied: patsy>=0.5.1 in /usr/local/lib/python3.7/dist-packages (from category_encoders) (0.5.2)\n",
            "Requirement already satisfied: scikit-learn>=0.20.0 in /usr/local/lib/python3.7/dist-packages (from category_encoders) (1.0.2)\n",
            "Requirement already satisfied: numpy>=1.14.0 in /usr/local/lib/python3.7/dist-packages (from category_encoders) (1.21.6)\n",
            "Requirement already satisfied: statsmodels>=0.9.0 in /usr/local/lib/python3.7/dist-packages (from category_encoders) (0.10.2)\n",
            "Requirement already satisfied: scipy>=1.0.0 in /usr/local/lib/python3.7/dist-packages (from category_encoders) (1.4.1)\n",
            "Requirement already satisfied: python-dateutil>=2.7.3 in /usr/local/lib/python3.7/dist-packages (from pandas>=0.21.1->category_encoders) (2.8.2)\n",
            "Requirement already satisfied: pytz>=2017.3 in /usr/local/lib/python3.7/dist-packages (from pandas>=0.21.1->category_encoders) (2022.1)\n",
            "Requirement already satisfied: six in /usr/local/lib/python3.7/dist-packages (from patsy>=0.5.1->category_encoders) (1.15.0)\n",
            "Requirement already satisfied: threadpoolctl>=2.0.0 in /usr/local/lib/python3.7/dist-packages (from scikit-learn>=0.20.0->category_encoders) (3.1.0)\n",
            "Requirement already satisfied: joblib>=0.11 in /usr/local/lib/python3.7/dist-packages (from scikit-learn>=0.20.0->category_encoders) (1.1.0)\n",
            "Installing collected packages: category-encoders\n",
            "Successfully installed category-encoders-2.4.1\n"
          ]
        }
      ]
    },
    {
      "cell_type": "code",
      "source": [
        "import numpy as np\n",
        "import pandas as pd\n",
        "import seaborn as sns\n",
        "import matplotlib.pyplot as plt\n",
        "import warnings, random\n",
        "warnings.filterwarnings(action='ignore')\n",
        "\n",
        "from sklearn.metrics import log_loss\n",
        "from sklearn.preprocessing import StandardScaler\n",
        "from category_encoders.ordinal import OrdinalEncoder\n",
        "from sklearn.model_selection import StratifiedKFold\n",
        "\n",
        "from sklearn.cluster import KMeans\n",
        "from catboost import CatBoostClassifier, Pool"
      ],
      "metadata": {
        "id": "WSfINuXPKdkm"
      },
      "execution_count": 3,
      "outputs": []
    },
    {
      "cell_type": "code",
      "source": [
        "train = pd.read_csv('/content/drive/MyDrive/khu_dacon/open/new_train.csv')\n",
        "test = pd.read_csv('/content/drive/MyDrive/khu_dacon/open/new_test.csv')"
      ],
      "metadata": {
        "id": "fY5GfzwSKe0c"
      },
      "execution_count": 23,
      "outputs": []
    },
    {
      "cell_type": "markdown",
      "source": [
        "## 데이터 처리\n",
        "\n",
        "기타 실험\n",
        "- occyp_type : DAYS_EMPLOYED == 0 이면서 occype_type이 NaN일 시 no_work로 처리\n",
        "- occyp_type별 income_total을 구해 비슷한 소득을 가진 직업군끼리 같은 범주로 묶어 실험 진행"
      ],
      "metadata": {
        "id": "KhIqI0jf2T45"
      }
    },
    {
      "cell_type": "code",
      "source": [
        "# 결측치 처리\n",
        "train.fillna('NaN', inplace=True) \n",
        "test.fillna('NaN', inplace=True)\n",
        "\n",
        "# 이상치 처리\n",
        "train = train[(train['family_size'] <= 7)]\n",
        "train = train.reset_index(drop=True)\n",
        "# child_num <= 7\n",
        "\n",
        "# 의미없는 변수 제거\n",
        "train.drop(['index', 'FLAG_MOBIL'], axis=1, inplace=True)\n",
        "test.drop(['index', 'FLAG_MOBIL'], axis=1, inplace=True)\n",
        "\n",
        "# unemployed 데이터는 무직자로 판단, 0처리\n",
        "train['YEARS_EMPLOYED'] = train['YEARS_EMPLOYED'].map(lambda x: 0 if x == 'unemployed' else x)\n",
        "test['YEARS_EMPLOYED'] = test['YEARS_EMPLOYED'].map(lambda x: 0 if x == 'unemployed' else x)\n",
        "train = train.astype({'YEARS_EMPLOYED':'float'})\n",
        "test = test.astype({'YEARS_EMPLOYED':'float'})\n",
        "\n",
        "train['ADD_DAYS_EMPLOYED'] = train['ADD_DAYS_EMPLOYED'].map(lambda x: 0 if x == 'unemployed' else x)\n",
        "test['ADD_DAYS_EMPLOYED'] = test['ADD_DAYS_EMPLOYED'].map(lambda x: 0 if x == 'unemployed' else x)\n",
        "train = train.astype({'ADD_DAYS_EMPLOYED':'float'})\n",
        "test = test.astype({'ADD_DAYS_EMPLOYED':'float'})\n",
        "\n",
        "# 음수->양수 변환\n",
        "feats = ['YEARS_BIRTH', 'begin_month', 'YEARS_EMPLOYED']\n",
        "for feat in feats:\n",
        "    train[feat]=np.abs(train[feat])\n",
        "    print(feat)\n",
        "    test[feat]=np.abs(test[feat])"
      ],
      "metadata": {
        "id": "8ri0f4UyKlcV",
        "colab": {
          "base_uri": "https://localhost:8080/"
        },
        "outputId": "817b9062-3d7f-4275-a8cd-40fd0a80fbcb"
      },
      "execution_count": 24,
      "outputs": [
        {
          "output_type": "stream",
          "name": "stdout",
          "text": [
            "YEARS_BIRTH\n",
            "begin_month\n",
            "YEARS_EMPLOYED\n"
          ]
        }
      ]
    },
    {
      "cell_type": "markdown",
      "source": [
        "## 변수 생성\n",
        "- **‘before_EMPLOYED’** : YEARS_BIRTH, ADD_DAYS_BRITH, YEARS_EMPLOYED, ADD_DAYS_EMPLOYED를 사용하여 사람이 직업을 갖기 전까지의 일수를 기록하는 feature를 생성하였습니다.\n",
        "- **‘income_total_beforeEMP_ratio’** : 사람의 총 수입을 나타내는 feature인 ‘income_total’을 위에서 새로 생성한 ‘before_EMPLOYED’로 나누어 이것에 대한 비율을 새로운 feature로 생성하였습니다.\n",
        "- **‘before_EMPLOYED_m’, ‘before_EMPLOYED_w’** : 고용되기 전까지의 일수를 월 단위와 주 단위로 하여 해당하는 값들을 새로운 feature로 만들었습니다.\n",
        "- 기존의 ‘YEARS_BRITH’를 **AGE**라는 feature로 이름을 변경하였으며, **‘DAYS_BRITH’**는 사람이 태어난 일수를 value로 가지는 feature 입니다. 또한, 이를 주 단위로 기록한 **‘DAYS_BRITH_m’**이라는 feature도 생성하였습니다.\n",
        "- 신용카드를 사용한 기간을 월 단위로 기록한 ‘begin_month’ feature를 사용하여 이를 연 단위로 변환한 **‘used_years’**를 생성하였습니다.\n",
        "- **‘DAYS_EMPLOYED’** : ‘YEARS_EMPLOYED’, ‘ADD_DAYS_EMPLOYED’ feature를 사용하여 고용된 일 수를 기록한 feature 입니다. ‘EMPLOYED’는 이를 연 단위로 변환한 feature 입니다. ‘\n",
        "- ‘**EMPLOYED**’ : ‘DAYS_EMPLOYED’ feature를 연단위로 기록한 feature 입니다. \n",
        "’**DAYS_EMPLOYED_m**’ : 연단위를 제거한 고용된 개월수를 의미합니다.\n",
        "- ‘**ability**’ : 총 소득을 의미하는 ‘income_total’과 지금까지 살아온 일수와 근무일수를 더한 값을 나눈 값을 feature로 생성하였습니다.\n",
        "- ‘**income_mean**’  : 그 사람의 총 소득(’income_total’)을 그 사람이 부양하는 가족의 수로 나눈 feature 입니다.\n",
        "- **ID :** \n",
        "child_num, income_total_, DAYS_BIRTH, DAYS_EMPLOYED, email, family_size, gender, car, reality, income_type, edu_type, family_type, house_type, occyp_type을 string의 형식으로 전부 더한 값을 해당 sample의 고유성을 나타내는 feature로 생성하였습니다.\n",
        "\n",
        "\n",
        "기타 실험 변수\n",
        "- 발급빠르기 : begin_month / DAYS BIRTH (현실에서 신용카드를 일찍 발급해서 사용할수록, 신용등급이 높게 나오는 경향성이 있다.)\n",
        "- 벌이/나이 : income_total / age (나이베 비해 일찍 돈을 벌었거나 많이 버는 것에 대해, 어느정도 신용 등급에 영향이 있을 것이라고 판단함)\n",
        "- 부담지수 : income_total / (age-35)**3 * (family_size) (적정 나이가 지나고 비혼이든, 혼인 사애든 부양할 가족이 있을 것이라 생각을 하였습니다. 보통 가정에서 생계를 온전히 부담하는 나이는 여러 조사 결과 35세 정도로 측정하여 가족 부담지수를 생성하였습니다.)\n",
        "- card_num : 성, 나이, 총 소득, 소득 타입, 취직일수가 같을 때 같은 사람이라고 판단하였습니다. 현실에서도 신용이 좋은 사람은 여러 경우에서 다른 혜택을 받기 위해 카드를 여러개 발급하는 경우가 있기 때문에 생성하여 실험"
      ],
      "metadata": {
        "id": "IMZMxZDl2XK7"
      }
    },
    {
      "cell_type": "code",
      "source": [
        "for df in [train,test]:\n",
        "    # before_EMPLOYED: 고용되기 전까지의 일수\n",
        "    df['before_EMPLOYED'] = (df['YEARS_BIRTH']*365 + df['ADD_DAYS_BIRTH']) - (df['YEARS_EMPLOYED']*365 + df['ADD_DAYS_EMPLOYED'])\n",
        "    df['income_total_befofeEMP_ratio'] = df['income_total'] / df['before_EMPLOYED']\n",
        "    df['before_EMPLOYED_m'] = np.floor(df['before_EMPLOYED'] / 30) - ((np.floor(df['before_EMPLOYED'] / 30) / 12).astype(int) * 12)\n",
        "    df['before_EMPLOYED_w'] = np.floor(df['before_EMPLOYED'] / 7) - ((np.floor(df['before_EMPLOYED'] / 7) / 4).astype(int) * 4)\n",
        "    \n",
        "    #DAYS_BIRTH 파생변수- Age(나이), 태어난 월, 태어난 주(출생연도의 n주차)\n",
        "    df['Age'] = df['YEARS_BIRTH']\n",
        "    df['DAYS_BIRTH'] = df['YEARS_BIRTH']*365 + df['ADD_DAYS_BIRTH'] # -> 어떤 차이?\n",
        "    df['DAYS_BIRTH_m'] = np.floor(df['DAYS_BIRTH'] / 30) - ((np.floor(df['DAYS_BIRTH'] / 30) / 12).astype(int) * 12)\n",
        "    df['DAYS_BIRTH_w'] = np.floor(df['DAYS_BIRTH'] / 7) - ((np.floor(df['DAYS_BIRTH'] / 7) / 4).astype(int) * 4)\n",
        "\n",
        "    \n",
        "    #DAYS_EMPLOYED_m 파생변수- EMPLOYED(근속연수), DAYS_EMPLOYED_m(고용된 달) ,DAYS_EMPLOYED_w(고용된 주(고용연도의 n주차)) \n",
        "    df['DAYS_EMPLOYED'] = df['YEARS_EMPLOYED']*365 + df['ADD_DAYS_EMPLOYED'] \n",
        "    df['EMPLOYED'] = df['DAYS_EMPLOYED'] // 365 # -> 핵심\n",
        "    df['DAYS_EMPLOYED_m'] = np.floor(df['DAYS_EMPLOYED'] / 30) - ((np.floor(df['DAYS_EMPLOYED'] / 30) / 12).astype(int) * 12)\n",
        "    df['DAYS_EMPLOYED_w'] = np.floor(df['DAYS_EMPLOYED'] / 7) - ((np.floor(df['DAYS_EMPLOYED'] / 7) / 4).astype(int) * 4)\n",
        "\n",
        "    #ability: 소득/(살아온 일수+ 근무일수)\n",
        "    df['ability'] = df['income_total'] / (df['DAYS_BIRTH'] + df['DAYS_EMPLOYED'])\n",
        "    \n",
        "    #income_mean: 소득/ 가족 수\n",
        "    df['income_mean'] = df['income_total'] / df['family_size']\n",
        "    \n",
        "    #ID 생성: 각 컬럼의 값들을 더해서 고유한 사람을 파악(*한 사람이 여러 개 카드를 만들 가능성을 고려해 begin_month는 제외함)\n",
        "    df['ID'] = \\\n",
        "    df['child_num'].astype(str) + '_' + df['income_total'].astype(str) + '_' +\\\n",
        "    df['DAYS_BIRTH'].astype(str) + '_' + df['DAYS_EMPLOYED'].astype(str) + '_' +\\\n",
        "    df['email'].astype(str) + '_' + df['family_size'].astype(str) + '_' +\\\n",
        "    df['gender'].astype(str) + '_' + df['car'].astype(str) + '_' +\\\n",
        "    df['reality'].astype(str) + '_' + df['income_type'].astype(str) + '_' +\\\n",
        "    df['edu_type'].astype(str) + '_' + df['family_type'].astype(str) + '_' +\\\n",
        "    df['house_type'].astype(str) + '_' + df['occyp_type'].astype(str)"
      ],
      "metadata": {
        "id": "MXwN8GqnKqXb"
      },
      "execution_count": 25,
      "outputs": []
    },
    {
      "cell_type": "markdown",
      "source": [
        "## 변수 제거\n",
        "- 다중공선성이란? : 변수들간의 상관관계가 있는지 여부를 판단하는 지표. 회귀분석 돌릴 때 변수들끼리 독립이라는 가정을 해야 하는데, 상관관계가 심하게 높으면 독립성 위배 + target변수를 추측할 때, target변수의 설명력이 떨어진다.\n",
        "- VIF가 10이 넘어가는 변수들을 제거해보기도, inf인것만 제거해보기도 하였으나 BRITH, EMPLOYED관련 변수들과 child_num변수를 제거했을 때 가장 성능이 좋았다."
      ],
      "metadata": {
        "id": "ALs7c_0o2acp"
      }
    },
    {
      "cell_type": "code",
      "source": [
        "numerical_feats = train.dtypes[train.dtypes != \"object\"].index.tolist()\n",
        "numerical_feats.remove('credit')\n",
        "print(\"Number of Numerical features: \", len(numerical_feats))\n",
        "\n",
        "categorical_feats = train.dtypes[train.dtypes == \"object\"].index.tolist()\n",
        "print(\"Number of Categorical features: \", len(categorical_feats))"
      ],
      "metadata": {
        "colab": {
          "base_uri": "https://localhost:8080/"
        },
        "id": "AEnmxzs8CwTr",
        "outputId": "ec14f3db-9788-4ba9-dd29-dfb93f79c48d"
      },
      "execution_count": 26,
      "outputs": [
        {
          "output_type": "stream",
          "name": "stdout",
          "text": [
            "Number of Numerical features:  24\n",
            "Number of Categorical features:  9\n"
          ]
        }
      ]
    },
    {
      "cell_type": "code",
      "source": [
        "# VIF기능을 제공하는 라이브러리 불러오기\n",
        "from statsmodels.stats.outliers_influence import variance_inflation_factor\n",
        "\n",
        "temp = train[numerical_feats]\n",
        "vif = pd.DataFrame()\n",
        "vif[\"VIF Factor\"] = [variance_inflation_factor(temp.values, i) for i in range(temp.shape[1])]\n",
        "vif[\"features\"] = numerical_feats\n",
        "vif"
      ],
      "metadata": {
        "colab": {
          "base_uri": "https://localhost:8080/",
          "height": 802
        },
        "id": "hizIxyGwCuTl",
        "outputId": "5326fc76-e084-4a06-bb1d-160cf2a8f4c6"
      },
      "execution_count": 27,
      "outputs": [
        {
          "output_type": "execute_result",
          "data": {
            "text/plain": [
              "    VIF Factor                      features\n",
              "0    39.830206                  income_total\n",
              "1     7.255775                     child_num\n",
              "2     1.544201                    phone_case\n",
              "3     1.118275                         email\n",
              "4    51.997932                   family_size\n",
              "5     3.531490                   begin_month\n",
              "6          inf                   YEARS_BIRTH\n",
              "7          inf                ADD_DAYS_BIRTH\n",
              "8          inf                YEARS_EMPLOYED\n",
              "9          inf             ADD_DAYS_EMPLOYED\n",
              "10         inf               before_EMPLOYED\n",
              "11   41.950027  income_total_befofeEMP_ratio\n",
              "12    3.623624             before_EMPLOYED_m\n",
              "13    2.879643             before_EMPLOYED_w\n",
              "14         inf                           Age\n",
              "15         inf                    DAYS_BIRTH\n",
              "16    3.892022                  DAYS_BIRTH_m\n",
              "17    2.916195                  DAYS_BIRTH_w\n",
              "18         inf                 DAYS_EMPLOYED\n",
              "19         inf                      EMPLOYED\n",
              "20    4.584470               DAYS_EMPLOYED_m\n",
              "21    2.505404               DAYS_EMPLOYED_w\n",
              "22   57.871807                       ability\n",
              "23   16.163066                   income_mean"
            ],
            "text/html": [
              "\n",
              "  <div id=\"df-3886944b-82f0-43b2-983a-8e9ed11be23f\">\n",
              "    <div class=\"colab-df-container\">\n",
              "      <div>\n",
              "<style scoped>\n",
              "    .dataframe tbody tr th:only-of-type {\n",
              "        vertical-align: middle;\n",
              "    }\n",
              "\n",
              "    .dataframe tbody tr th {\n",
              "        vertical-align: top;\n",
              "    }\n",
              "\n",
              "    .dataframe thead th {\n",
              "        text-align: right;\n",
              "    }\n",
              "</style>\n",
              "<table border=\"1\" class=\"dataframe\">\n",
              "  <thead>\n",
              "    <tr style=\"text-align: right;\">\n",
              "      <th></th>\n",
              "      <th>VIF Factor</th>\n",
              "      <th>features</th>\n",
              "    </tr>\n",
              "  </thead>\n",
              "  <tbody>\n",
              "    <tr>\n",
              "      <th>0</th>\n",
              "      <td>39.830206</td>\n",
              "      <td>income_total</td>\n",
              "    </tr>\n",
              "    <tr>\n",
              "      <th>1</th>\n",
              "      <td>7.255775</td>\n",
              "      <td>child_num</td>\n",
              "    </tr>\n",
              "    <tr>\n",
              "      <th>2</th>\n",
              "      <td>1.544201</td>\n",
              "      <td>phone_case</td>\n",
              "    </tr>\n",
              "    <tr>\n",
              "      <th>3</th>\n",
              "      <td>1.118275</td>\n",
              "      <td>email</td>\n",
              "    </tr>\n",
              "    <tr>\n",
              "      <th>4</th>\n",
              "      <td>51.997932</td>\n",
              "      <td>family_size</td>\n",
              "    </tr>\n",
              "    <tr>\n",
              "      <th>5</th>\n",
              "      <td>3.531490</td>\n",
              "      <td>begin_month</td>\n",
              "    </tr>\n",
              "    <tr>\n",
              "      <th>6</th>\n",
              "      <td>inf</td>\n",
              "      <td>YEARS_BIRTH</td>\n",
              "    </tr>\n",
              "    <tr>\n",
              "      <th>7</th>\n",
              "      <td>inf</td>\n",
              "      <td>ADD_DAYS_BIRTH</td>\n",
              "    </tr>\n",
              "    <tr>\n",
              "      <th>8</th>\n",
              "      <td>inf</td>\n",
              "      <td>YEARS_EMPLOYED</td>\n",
              "    </tr>\n",
              "    <tr>\n",
              "      <th>9</th>\n",
              "      <td>inf</td>\n",
              "      <td>ADD_DAYS_EMPLOYED</td>\n",
              "    </tr>\n",
              "    <tr>\n",
              "      <th>10</th>\n",
              "      <td>inf</td>\n",
              "      <td>before_EMPLOYED</td>\n",
              "    </tr>\n",
              "    <tr>\n",
              "      <th>11</th>\n",
              "      <td>41.950027</td>\n",
              "      <td>income_total_befofeEMP_ratio</td>\n",
              "    </tr>\n",
              "    <tr>\n",
              "      <th>12</th>\n",
              "      <td>3.623624</td>\n",
              "      <td>before_EMPLOYED_m</td>\n",
              "    </tr>\n",
              "    <tr>\n",
              "      <th>13</th>\n",
              "      <td>2.879643</td>\n",
              "      <td>before_EMPLOYED_w</td>\n",
              "    </tr>\n",
              "    <tr>\n",
              "      <th>14</th>\n",
              "      <td>inf</td>\n",
              "      <td>Age</td>\n",
              "    </tr>\n",
              "    <tr>\n",
              "      <th>15</th>\n",
              "      <td>inf</td>\n",
              "      <td>DAYS_BIRTH</td>\n",
              "    </tr>\n",
              "    <tr>\n",
              "      <th>16</th>\n",
              "      <td>3.892022</td>\n",
              "      <td>DAYS_BIRTH_m</td>\n",
              "    </tr>\n",
              "    <tr>\n",
              "      <th>17</th>\n",
              "      <td>2.916195</td>\n",
              "      <td>DAYS_BIRTH_w</td>\n",
              "    </tr>\n",
              "    <tr>\n",
              "      <th>18</th>\n",
              "      <td>inf</td>\n",
              "      <td>DAYS_EMPLOYED</td>\n",
              "    </tr>\n",
              "    <tr>\n",
              "      <th>19</th>\n",
              "      <td>inf</td>\n",
              "      <td>EMPLOYED</td>\n",
              "    </tr>\n",
              "    <tr>\n",
              "      <th>20</th>\n",
              "      <td>4.584470</td>\n",
              "      <td>DAYS_EMPLOYED_m</td>\n",
              "    </tr>\n",
              "    <tr>\n",
              "      <th>21</th>\n",
              "      <td>2.505404</td>\n",
              "      <td>DAYS_EMPLOYED_w</td>\n",
              "    </tr>\n",
              "    <tr>\n",
              "      <th>22</th>\n",
              "      <td>57.871807</td>\n",
              "      <td>ability</td>\n",
              "    </tr>\n",
              "    <tr>\n",
              "      <th>23</th>\n",
              "      <td>16.163066</td>\n",
              "      <td>income_mean</td>\n",
              "    </tr>\n",
              "  </tbody>\n",
              "</table>\n",
              "</div>\n",
              "      <button class=\"colab-df-convert\" onclick=\"convertToInteractive('df-3886944b-82f0-43b2-983a-8e9ed11be23f')\"\n",
              "              title=\"Convert this dataframe to an interactive table.\"\n",
              "              style=\"display:none;\">\n",
              "        \n",
              "  <svg xmlns=\"http://www.w3.org/2000/svg\" height=\"24px\"viewBox=\"0 0 24 24\"\n",
              "       width=\"24px\">\n",
              "    <path d=\"M0 0h24v24H0V0z\" fill=\"none\"/>\n",
              "    <path d=\"M18.56 5.44l.94 2.06.94-2.06 2.06-.94-2.06-.94-.94-2.06-.94 2.06-2.06.94zm-11 1L8.5 8.5l.94-2.06 2.06-.94-2.06-.94L8.5 2.5l-.94 2.06-2.06.94zm10 10l.94 2.06.94-2.06 2.06-.94-2.06-.94-.94-2.06-.94 2.06-2.06.94z\"/><path d=\"M17.41 7.96l-1.37-1.37c-.4-.4-.92-.59-1.43-.59-.52 0-1.04.2-1.43.59L10.3 9.45l-7.72 7.72c-.78.78-.78 2.05 0 2.83L4 21.41c.39.39.9.59 1.41.59.51 0 1.02-.2 1.41-.59l7.78-7.78 2.81-2.81c.8-.78.8-2.07 0-2.86zM5.41 20L4 18.59l7.72-7.72 1.47 1.35L5.41 20z\"/>\n",
              "  </svg>\n",
              "      </button>\n",
              "      \n",
              "  <style>\n",
              "    .colab-df-container {\n",
              "      display:flex;\n",
              "      flex-wrap:wrap;\n",
              "      gap: 12px;\n",
              "    }\n",
              "\n",
              "    .colab-df-convert {\n",
              "      background-color: #E8F0FE;\n",
              "      border: none;\n",
              "      border-radius: 50%;\n",
              "      cursor: pointer;\n",
              "      display: none;\n",
              "      fill: #1967D2;\n",
              "      height: 32px;\n",
              "      padding: 0 0 0 0;\n",
              "      width: 32px;\n",
              "    }\n",
              "\n",
              "    .colab-df-convert:hover {\n",
              "      background-color: #E2EBFA;\n",
              "      box-shadow: 0px 1px 2px rgba(60, 64, 67, 0.3), 0px 1px 3px 1px rgba(60, 64, 67, 0.15);\n",
              "      fill: #174EA6;\n",
              "    }\n",
              "\n",
              "    [theme=dark] .colab-df-convert {\n",
              "      background-color: #3B4455;\n",
              "      fill: #D2E3FC;\n",
              "    }\n",
              "\n",
              "    [theme=dark] .colab-df-convert:hover {\n",
              "      background-color: #434B5C;\n",
              "      box-shadow: 0px 1px 3px 1px rgba(0, 0, 0, 0.15);\n",
              "      filter: drop-shadow(0px 1px 2px rgba(0, 0, 0, 0.3));\n",
              "      fill: #FFFFFF;\n",
              "    }\n",
              "  </style>\n",
              "\n",
              "      <script>\n",
              "        const buttonEl =\n",
              "          document.querySelector('#df-3886944b-82f0-43b2-983a-8e9ed11be23f button.colab-df-convert');\n",
              "        buttonEl.style.display =\n",
              "          google.colab.kernel.accessAllowed ? 'block' : 'none';\n",
              "\n",
              "        async function convertToInteractive(key) {\n",
              "          const element = document.querySelector('#df-3886944b-82f0-43b2-983a-8e9ed11be23f');\n",
              "          const dataTable =\n",
              "            await google.colab.kernel.invokeFunction('convertToInteractive',\n",
              "                                                     [key], {});\n",
              "          if (!dataTable) return;\n",
              "\n",
              "          const docLinkHtml = 'Like what you see? Visit the ' +\n",
              "            '<a target=\"_blank\" href=https://colab.research.google.com/notebooks/data_table.ipynb>data table notebook</a>'\n",
              "            + ' to learn more about interactive tables.';\n",
              "          element.innerHTML = '';\n",
              "          dataTable['output_type'] = 'display_data';\n",
              "          await google.colab.output.renderOutput(dataTable, element);\n",
              "          const docLink = document.createElement('div');\n",
              "          docLink.innerHTML = docLinkHtml;\n",
              "          element.appendChild(docLink);\n",
              "        }\n",
              "      </script>\n",
              "    </div>\n",
              "  </div>\n",
              "  "
            ]
          },
          "metadata": {},
          "execution_count": 27
        }
      ]
    },
    {
      "cell_type": "code",
      "source": [
        "# 다중공선성을 띄는 변수 제거\n",
        "cols = ['child_num', 'DAYS_BIRTH', 'DAYS_EMPLOYED', 'YEARS_BIRTH', 'ADD_DAYS_BIRTH', 'YEARS_EMPLOYED', 'ADD_DAYS_EMPLOYED']\n",
        "train.drop(cols, axis=1, inplace=True)\n",
        "test.drop(cols, axis=1, inplace=True)"
      ],
      "metadata": {
        "id": "QvRoULPgLY0D"
      },
      "execution_count": 28,
      "outputs": []
    },
    {
      "cell_type": "code",
      "source": [
        "numerical_feats = train.dtypes[train.dtypes != \"object\"].index.tolist()\n",
        "numerical_feats.remove('credit')\n",
        "print(\"Number of Numerical features: \", len(numerical_feats))\n",
        "\n",
        "categorical_feats = train.dtypes[train.dtypes == \"object\"].index.tolist()\n",
        "print(\"Number of Categorical features: \", len(categorical_feats))"
      ],
      "metadata": {
        "id": "Fxr59vmQLZuK",
        "colab": {
          "base_uri": "https://localhost:8080/"
        },
        "outputId": "2759dcd6-3a1e-4339-ca6f-5591f04561cd"
      },
      "execution_count": 29,
      "outputs": [
        {
          "output_type": "stream",
          "name": "stdout",
          "text": [
            "Number of Numerical features:  17\n",
            "Number of Categorical features:  9\n"
          ]
        }
      ]
    },
    {
      "cell_type": "markdown",
      "source": [
        "## log변환(치우친 분포 정상화)\n",
        "- 그래프를 그려봤을 때, 정규분포 형태가 아니라 치우처져 있는 것을 볼 수 있다.\n",
        "- 왜도와 첨도를 줄여 정규성을 높여, 분석 시 정확한 값을 얻도록 한다."
      ],
      "metadata": {
        "id": "OSovYllf2mL7"
      }
    },
    {
      "cell_type": "code",
      "source": [
        "sns.distplot(train[['income_total']])"
      ],
      "metadata": {
        "colab": {
          "base_uri": "https://localhost:8080/",
          "height": 307
        },
        "id": "1FVfR8xHEy0l",
        "outputId": "c8bf1a7b-7570-4fad-b3fc-75bf80b95f54"
      },
      "execution_count": 40,
      "outputs": [
        {
          "output_type": "execute_result",
          "data": {
            "text/plain": [
              "<matplotlib.axes._subplots.AxesSubplot at 0x7fd297ed3b90>"
            ]
          },
          "metadata": {},
          "execution_count": 40
        },
        {
          "output_type": "display_data",
          "data": {
            "text/plain": [
              "<Figure size 432x288 with 1 Axes>"
            ],
            "image/png": "[encoded data removed]"
          },
          "metadata": {
            "needs_background": "light"
          }
        }
      ]
    },
    {
      "cell_type": "code",
      "source": [
        "for df in [train,test]:\n",
        "    df['income_total'] = np.log1p(1+df['income_total'])"
      ],
      "metadata": {
        "id": "vq61A3dRLtwz"
      },
      "execution_count": 41,
      "outputs": []
    },
    {
      "cell_type": "code",
      "source": [
        "sns.distplot(train[['income_total']])"
      ],
      "metadata": {
        "colab": {
          "base_uri": "https://localhost:8080/",
          "height": 283
        },
        "id": "QDrlz51iFmDI",
        "outputId": "d6368cbd-6441-4711-8bf6-604777bc8a14"
      },
      "execution_count": 42,
      "outputs": [
        {
          "output_type": "execute_result",
          "data": {
            "text/plain": [
              "<matplotlib.axes._subplots.AxesSubplot at 0x7fd29585ac50>"
            ]
          },
          "metadata": {},
          "execution_count": 42
        },
        {
          "output_type": "display_data",
          "data": {
            "text/plain": [
              "<Figure size 432x288 with 1 Axes>"
            ],
            "image/png": "[encoded data removed]"
          },
          "metadata": {
            "needs_background": "light"
          }
        }
      ]
    },
    {
      "cell_type": "code",
      "source": [
        "encoder = OrdinalEncoder(categorical_feats)\n",
        "train[categorical_feats] = encoder.fit_transform(train[categorical_feats], train['credit'])\n",
        "test[categorical_feats] = encoder.transform(test[categorical_feats])\n",
        "\n",
        "train['ID'] = train['ID'].astype('int64')\n",
        "test['ID'] = test['ID'].astype('int64')"
      ],
      "metadata": {
        "id": "LRqbG_p6Lws7"
      },
      "execution_count": 43,
      "outputs": []
    },
    {
      "cell_type": "markdown",
      "source": [
        "## 군집화(중복 데이터 처리)\n",
        "- 데이터를 살펴보면 한 사용자가 여러 카드를 사용해 연체를 한 여부가 나온다.\n",
        "- 중복 사용자를 처리해주기 위해 군집화를 사용하는데, 이 군집화 개수의 영향도 미미하지 않을 것으로 생각했다.\n",
        "\n",
        "- k-means clustering기법의 k값을 정하는 방법은 대표적으로 Elbow Method, Silhouette Score가 있다.\n",
        "- 두 방법을 사용한 결과, 5-6부터 비슷한 값을 가지고 35-40 구간에서 최적의 score를 보이는 결과를 얻었다."
      ],
      "metadata": {
        "id": "9Ltt9kVO2y5S"
      }
    },
    {
      "cell_type": "code",
      "source": [
        "from sklearn.cluster import KMeans\n",
        "\n",
        "import matplotlib.pyplot as plt\n",
        "\n",
        "inertia = []\n",
        "\n",
        "X = train.drop(['credit'], axis=1)\n",
        "for i in range(1, 40):\n",
        "    kmeans_plus = KMeans(n_clusters=i, init='k-means++')\n",
        "    kmeans_plus.fit(X)\n",
        "    inertia.append(kmeans_plus.inertia_)\n",
        "\n",
        "plt.plot(range(1, 40), inertia, marker='o')\n",
        "plt.xlabel('Number of clusters')\n",
        "plt.ylabel('Inertia')\n",
        "plt.show()"
      ],
      "metadata": {
        "id": "ATxg6P6sLyx8",
        "colab": {
          "base_uri": "https://localhost:8080/",
          "height": 290
        },
        "outputId": "34a6982b-152a-4d1d-9886-294280f24a62"
      },
      "execution_count": 44,
      "outputs": [
        {
          "output_type": "display_data",
          "data": {
            "text/plain": [
              "<Figure size 432x288 with 1 Axes>"
            ],
            "image/png": "[encoded data removed]"
          },
          "metadata": {
            "needs_background": "light"
          }
        }
      ]
    },
    {
      "cell_type": "code",
      "source": [
        "kmeans_train = train.drop(['credit'], axis=1)\n",
        "kmeans = KMeans(n_clusters=40, random_state=42).fit(kmeans_train)\n",
        "train['cluster'] = kmeans.predict(kmeans_train)\n",
        "test['cluster'] = kmeans.predict(test)"
      ],
      "metadata": {
        "id": "igGBVITGNZnp"
      },
      "execution_count": 45,
      "outputs": []
    },
    {
      "cell_type": "markdown",
      "source": [
        "## scaling의 변화\n",
        "- 대표적인 스케일러는 총 4개가 있다.\n",
        "- Standard : 평균과 표준편차를 사용\n",
        "- MinMax : 최대/최소값이 각각 1,0이 되도록 스케일링\n",
        "- MaxAbs : 최대절대값와 0이 각각 1,0이 되도록 스케일링\n",
        "- Robust : 중앙값과 IQR을 사용하여, 아웃라이어 영향 최소화\n",
        "\n",
        "- 데이터에 이상치가 섞여 있다고 판단하여 Robust를 적용시켜보았으나 Standard scaler가 가장 성능이 좋았다."
      ],
      "metadata": {
        "id": "dQuhHg0125xP"
      }
    },
    {
      "cell_type": "code",
      "source": [
        "numerical_feats.remove('income_total')\n",
        "scaler = StandardScaler()\n",
        "train[numerical_feats] = scaler.fit_transform(train[numerical_feats])\n",
        "test[numerical_feats] = scaler.transform(test[numerical_feats])"
      ],
      "metadata": {
        "id": "12D1owTkMp00"
      },
      "execution_count": null,
      "outputs": []
    },
    {
      "cell_type": "markdown",
      "source": [
        "# Feature Selection\n",
        "- model을 학습시키기 위한 최적의 feature set 조합을 찾는 것이 필수라고 생각\n",
        "- 모든 feature set조합에 대해 실험 진행. 파라미터를 변경하며 찾아보려 했으나, 오히려 성능이 많이 떨어지는 현상이 발생하여 선정하지 않음."
      ],
      "metadata": {
        "id": "qSaY17DeMHrI"
      }
    },
    {
      "cell_type": "code",
      "source": [
        "'''\n",
        "from catboost import CatBoostRegressor, Pool, EShapCalcType, EFeaturesSelectionAlgorithm\n",
        "from sklearn.datasets import make_regression\n",
        "from sklearn.model_selection import train_test_split\n",
        "\n",
        "target = 'credit'\n",
        "X = train.drop(target, axis=1)\n",
        "y = train[target]\n",
        "\n",
        "train_X, test_X, train_y, test_y = train_test_split(X, y, test_size=0.25, stratify=y, random_state=0)\n",
        "feature_names = ['F{}'.format(i) for i in range(train_X.shape[1])]\n",
        "train_pool = Pool(train_X, train_y, feature_names=feature_names)\n",
        "test_pool = Pool(test_X, test_y, feature_names=feature_names)\n",
        "\n",
        "model =  CatBoostClassifier(learning_rate=0.22999586428143728, bagging_temperature=0.022592797420156956, n_estimators=2764, \n",
        "                                 max_depth=4, random_strength=32, colsample_bylevel=0.6332063738136893, l2_leaf_reg=8.147757462899138e-06, \n",
        "                                 min_child_samples=84, max_bin=307, od_type='Iter')\n",
        "\n",
        "summary = model.select_features(\n",
        "    train_pool,\n",
        "    eval_set=test_pool,\n",
        "    features_for_select='0-21',\n",
        "    num_features_to_select=15,\n",
        "    steps=3,\n",
        "    algorithm=EFeaturesSelectionAlgorithm.RecursiveByShapValues,\n",
        "    shap_calc_type=EShapCalcType.Regular,\n",
        "    train_final_model=True,\n",
        "    logging_level='Silent',\n",
        "    plot=True\n",
        ")\n",
        "''"
      ],
      "metadata": {
        "id": "SGntBgXvMGzr"
      },
      "execution_count": null,
      "outputs": []
    },
    {
      "cell_type": "markdown",
      "source": [
        "## Optuna - 하이퍼 파라미터 최적화\n",
        "- Optuna란? : ML알고리즘의 하이퍼파라미터 튜닝을 자동화해주는 오픈소스 툴\n",
        "- 해당 오픈소스를 통해 model의 최적의 파라미터를 찾아내는 방법을 사용했다.\n",
        "- 많은 시간을 할애하므로, 성능 비교를 할 때는 하이퍼 파라미터를 고정시키고 진행"
      ],
      "metadata": {
        "id": "_1VD1t0M29v_"
      }
    },
    {
      "cell_type": "code",
      "source": [
        "#Optuna용 Train셋\n",
        "X = train.drop(['credit'],axis=1)\n",
        "y = train['credit']\n",
        "X_test = test.copy()"
      ],
      "metadata": {
        "id": "94Zh8IwYRlYK"
      },
      "execution_count": null,
      "outputs": []
    },
    {
      "cell_type": "code",
      "source": [
        "def objective(trial):\n",
        "  param = {\n",
        "      \"random_state\":42,\n",
        "      'learning_rate' : trial.suggest_loguniform('learning_rate', 0.01, 0.3),\n",
        "      'bagging_temperature' :trial.suggest_loguniform('bagging_temperature', 0.01, 100.00),\n",
        "      \"n_estimators\":trial.suggest_int(\"n_estimators\", 1000, 10000),\n",
        "      \"max_depth\":trial.suggest_int(\"max_depth\", 4, 16),\n",
        "      'random_strength' :trial.suggest_int('random_strength', 0, 100),\n",
        "      \"colsample_bylevel\":trial.suggest_float(\"colsample_bylevel\", 0.4, 1.0),\n",
        "      \"l2_leaf_reg\":trial.suggest_float(\"l2_leaf_reg\",1e-8,3e-5),\n",
        "      \"min_child_samples\": trial.suggest_int(\"min_child_samples\", 5, 100),\n",
        "      \"max_bin\": trial.suggest_int(\"max_bin\", 200, 500),\n",
        "      'od_type': trial.suggest_categorical('od_type', ['IncToDec', 'Iter']),\n",
        "  }\n",
        "\n",
        "  X_train, X_valid, y_train, y_valid = train_test_split(X,y,test_size=0.2)\n",
        "  \n",
        "  cat_features = ['income_type', 'edu_type', 'family_type', 'house_type', 'occyp_type', 'ID']\n",
        "  cat = CatBoostClassifier(**param)\n",
        "  cat.fit(X_train, y_train,\n",
        "          eval_set=[(X_train, y_train), (X_valid,y_valid)],\n",
        "          early_stopping_rounds=35,cat_features=cat_features,\n",
        "          verbose=100)\n",
        "  cat_pred = cat.predict_proba(X_valid)\n",
        "  log_score = log_loss(y_valid, cat_pred)\n",
        "\n",
        "  return log_score"
      ],
      "metadata": {
        "id": "kkCz6RcURlaT"
      },
      "execution_count": null,
      "outputs": []
    },
    {
      "cell_type": "code",
      "source": [
        "!pip install optuna"
      ],
      "metadata": {
        "id": "nXE5p2vDVdtc"
      },
      "execution_count": null,
      "outputs": []
    },
    {
      "cell_type": "code",
      "source": [
        "import warnings\n",
        "warnings.filterwarnings('ignore')\n",
        "\n",
        "import glob\n",
        "import pandas as pd\n",
        "import numpy as np\n",
        "\n",
        "from catboost import CatBoostClassifier\n",
        "from sklearn.model_selection import StratifiedKFold,train_test_split\n",
        "from sklearn.metrics import log_loss\n",
        "from sklearn.preprocessing import OneHotEncoder\n",
        "import random\n",
        "\n",
        "import optuna\n",
        "from optuna.samplers import TPESampler\n",
        "sampler = TPESampler(seed=42)\n",
        "study = optuna.create_study(\n",
        "    study_name = 'cat_parameter_opt',\n",
        "    direction = 'minimize',\n",
        "    sampler = sampler,\n",
        ")\n",
        "study.optimize(objective, n_trials=10)\n",
        "print(\"Best Score:\",study.best_value)\n",
        "print(\"Best trial\",study.best_trial.params)"
      ],
      "metadata": {
        "id": "FmU0n-MKRod1"
      },
      "execution_count": null,
      "outputs": []
    },
    {
      "cell_type": "markdown",
      "source": [
        "## Modeling(Catboost)\n",
        "\n",
        "model 실험\n",
        "- Tabnet(딥러닝)\n",
        "- XGBoost + Catboost + LightGBM 스태킹\n",
        "- Catboost 단일 모델\n",
        "- 위 model들 중 catboost가 가장 높게 나와 선정하였다.\n",
        "\n",
        "Catboost model의 특성\n",
        "- Level-wise로 트리를 만들어나가는 방식이다. (BFS 알고리즘처럼 트리를 만들어나가는 형태)\n",
        "- Orderd Boosting : 일괄적으로 모든 훈련 데이터를 대상으로 잔차를 계산하는 기존 부스팅 모델과는 다르게, 일부 데이터만 가지고 잔차를 계산한 뒤 모델을 형성한 후 그 뒤 데이터의 잔차는 앞서 만든 모델로 예측한 값을 사용한다.\n",
        "- Random Permutation : 데이터를 셔플링하여 뽑아내기 때문에 오버피팅 방지, 트리를 다각적으로 만들어준다.\n",
        "- Ordered Target Encoding : 범주형변수를 수치형 변수로 인코딩 시키는 방법으로, 이전 데이터의 타겟 값만을 사용해 Data Leakage를 방지해준다. \n",
        "- Categorical Feauture Combinations : information gain이 동일한 두 feature를 하나의 feature로 묶어, feature selection 부담이 조금 줄어든다.\n",
        "\n",
        "Catboost의 한계\n",
        "- sparse matrix는 처리하지 못한다.\n",
        "- 데이터 대부분이 수치형일 때 학습 속도가 느리다."
      ],
      "metadata": {
        "id": "IJkR5mjT3DH4"
      }
    },
    {
      "cell_type": "code",
      "source": [
        "n_est = 2000\n",
        "seed = 42\n",
        "n_fold = 19\n",
        "n_class = 3\n",
        "\n",
        "target = 'credit'\n",
        "X = train.drop(target, axis=1)\n",
        "y = train[target]\n",
        "X_test = test"
      ],
      "metadata": {
        "id": "Xv4-E53XNykr"
      },
      "execution_count": 48,
      "outputs": []
    },
    {
      "cell_type": "code",
      "source": [
        "skfold = StratifiedKFold(n_splits=n_fold, shuffle=True, random_state=2000)\n",
        "folds=[]\n",
        "for train_idx, valid_idx in skfold.split(X, y):\n",
        "        folds.append((train_idx, valid_idx))\n",
        "\n",
        "cat_pred = np.zeros((X.shape[0], 3))\n",
        "cat_pred_test = np.zeros((X_test.shape[0], 3))\n",
        "cat_cols = ['income_type', 'edu_type', 'family_type', 'house_type', 'occyp_type', 'ID']\n",
        "for fold in range(n_fold):\n",
        "  print(f'\\n----------------- Fold {fold} -----------------\\n')\n",
        "  train_idx, valid_idx = folds[fold]\n",
        "  X_train, X_valid, y_train, y_valid = X.iloc[train_idx], X.iloc[valid_idx], y[train_idx], y[valid_idx]\n",
        "  train_data = Pool(data=X_train, label=y_train, cat_features=cat_cols)\n",
        "  valid_data = Pool(data=X_valid, label=y_valid, cat_features=cat_cols)\n",
        "\n",
        "  #model_cat = CatBoostClassifier(**study.best_params) # optuna로부터 나온 최적의 파라미터\n",
        "  model_cat = CatBoostClassifier(learning_rate=0.22999586428143728, bagging_temperature=0.022592797420156956, n_estimators=2764, \n",
        "                                 max_depth=4, random_strength=32, colsample_bylevel=0.6332063738136893, l2_leaf_reg=8.147757462899138e-06, \n",
        "                                 min_child_samples=84, max_bin=307, od_type='Iter')\n",
        "  model_cat.fit(train_data, eval_set=valid_data, use_best_model=True, early_stopping_rounds=100, verbose=100)\n",
        "  \n",
        "  cat_pred[valid_idx] = model_cat.predict_proba(X_valid)\n",
        "  cat_pred_test += model_cat.predict_proba(X_test) / n_fold\n",
        "  print(f'CV Log Loss Score: {log_loss(y_valid, cat_pred[valid_idx]):.6f}')\n",
        "    \n",
        "print(f'\\tLog Loss: {log_loss(y, cat_pred):.6f}')\n",
        "# 15 0.8047\n",
        "# 14 0.8047\n",
        "# 13 0.8045\n",
        "# 16 0.8040\n",
        "# 17 0.8035\n",
        "# 18 0.8030\n",
        "# 19 0.8019\n",
        "# 20 0.8027\n",
        "# 21 0.8026"
      ],
      "metadata": {
        "id": "GVeTaacHNjry",
        "colab": {
          "base_uri": "https://localhost:8080/"
        },
        "outputId": "689207be-1a93-43ba-ae63-61e670961cf3"
      },
      "execution_count": 49,
      "outputs": [
        {
          "output_type": "stream",
          "name": "stdout",
          "text": [
            "\n",
            "----------------- Fold 0 -----------------\n",
            "\n",
            "0:\tlearn: 1.0841705\ttest: 1.0841640\tbest: 1.0841640 (0)\ttotal: 64.2ms\tremaining: 2m 57s\n",
            "100:\tlearn: 0.8476640\ttest: 0.8238248\tbest: 0.8230234 (88)\ttotal: 3.27s\tremaining: 1m 26s\n",
            "Stopped by overfitting detector  (100 iterations wait)\n",
            "\n",
            "bestTest = 0.8230234141\n",
            "bestIteration = 88\n",
            "\n",
            "Shrink model to first 89 iterations.\n",
            "CV Log Loss Score: 0.823023\n",
            "\n",
            "----------------- Fold 1 -----------------\n",
            "\n",
            "0:\tlearn: 1.0841705\ttest: 1.0841640\tbest: 1.0841640 (0)\ttotal: 9.96ms\tremaining: 27.5s\n",
            "100:\tlearn: 0.8514807\ttest: 0.7690132\tbest: 0.7690132 (100)\ttotal: 2.4s\tremaining: 1m 3s\n",
            "200:\tlearn: 0.8292216\ttest: 0.7676242\tbest: 0.7667526 (192)\ttotal: 6.01s\tremaining: 1m 16s\n",
            "300:\tlearn: 0.8101564\ttest: 0.7659453\tbest: 0.7649962 (255)\ttotal: 8.94s\tremaining: 1m 13s\n",
            "400:\tlearn: 0.7925357\ttest: 0.7649797\tbest: 0.7642835 (390)\ttotal: 12.3s\tremaining: 1m 12s\n",
            "Stopped by overfitting detector  (100 iterations wait)\n",
            "\n",
            "bestTest = 0.7642835401\n",
            "bestIteration = 390\n",
            "\n",
            "Shrink model to first 391 iterations.\n",
            "CV Log Loss Score: 0.764284\n",
            "\n",
            "----------------- Fold 2 -----------------\n",
            "\n",
            "0:\tlearn: 1.0841705\ttest: 1.0841640\tbest: 1.0841640 (0)\ttotal: 20.2ms\tremaining: 55.9s\n",
            "100:\tlearn: 0.8464977\ttest: 0.8268862\tbest: 0.8266183 (89)\ttotal: 2.8s\tremaining: 1m 13s\n",
            "Stopped by overfitting detector  (100 iterations wait)\n",
            "\n",
            "bestTest = 0.8266182894\n",
            "bestIteration = 89\n",
            "\n",
            "Shrink model to first 90 iterations.\n",
            "CV Log Loss Score: 0.826618\n",
            "\n",
            "----------------- Fold 3 -----------------\n",
            "\n",
            "0:\tlearn: 1.0841705\ttest: 1.0841640\tbest: 1.0841640 (0)\ttotal: 9.41ms\tremaining: 26s\n",
            "100:\tlearn: 0.8487185\ttest: 0.8005616\tbest: 0.8001882 (97)\ttotal: 2.46s\tremaining: 1m 4s\n",
            "Stopped by overfitting detector  (100 iterations wait)\n",
            "\n",
            "bestTest = 0.8001882331\n",
            "bestIteration = 97\n",
            "\n",
            "Shrink model to first 98 iterations.\n",
            "CV Log Loss Score: 0.800188\n",
            "\n",
            "----------------- Fold 4 -----------------\n",
            "\n",
            "0:\tlearn: 1.0841705\ttest: 1.0841640\tbest: 1.0841640 (0)\ttotal: 9.21ms\tremaining: 25.5s\n",
            "100:\tlearn: 0.8475350\ttest: 0.8214640\tbest: 0.8214640 (100)\ttotal: 2.45s\tremaining: 1m 4s\n",
            "200:\tlearn: 0.8269952\ttest: 0.8223175\tbest: 0.8207974 (115)\ttotal: 5.24s\tremaining: 1m 6s\n",
            "Stopped by overfitting detector  (100 iterations wait)\n",
            "\n",
            "bestTest = 0.8207974468\n",
            "bestIteration = 115\n",
            "\n",
            "Shrink model to first 116 iterations.\n",
            "CV Log Loss Score: 0.820797\n",
            "\n",
            "----------------- Fold 5 -----------------\n",
            "\n",
            "0:\tlearn: 1.0841705\ttest: 1.0841640\tbest: 1.0841640 (0)\ttotal: 10.5ms\tremaining: 29s\n",
            "100:\tlearn: 0.8518816\ttest: 0.7892889\tbest: 0.7889387 (98)\ttotal: 2.47s\tremaining: 1m 5s\n",
            "200:\tlearn: 0.8308036\ttest: 0.7870923\tbest: 0.7870923 (200)\ttotal: 5.29s\tremaining: 1m 7s\n",
            "300:\tlearn: 0.8122266\ttest: 0.7878771\tbest: 0.7859790 (230)\ttotal: 8.09s\tremaining: 1m 6s\n",
            "Stopped by overfitting detector  (100 iterations wait)\n",
            "\n",
            "bestTest = 0.785979035\n",
            "bestIteration = 230\n",
            "\n",
            "Shrink model to first 231 iterations.\n",
            "CV Log Loss Score: 0.785979\n",
            "\n",
            "----------------- Fold 6 -----------------\n",
            "\n",
            "0:\tlearn: 1.0841705\ttest: 1.0841640\tbest: 1.0841640 (0)\ttotal: 9.32ms\tremaining: 25.8s\n",
            "100:\tlearn: 0.8511398\ttest: 0.7956808\tbest: 0.7956216 (98)\ttotal: 2.34s\tremaining: 1m 1s\n",
            "200:\tlearn: 0.8298200\ttest: 0.7944301\tbest: 0.7940158 (171)\ttotal: 5.09s\tremaining: 1m 4s\n",
            "300:\tlearn: 0.8108711\ttest: 0.7945237\tbest: 0.7926115 (265)\ttotal: 7.98s\tremaining: 1m 5s\n",
            "Stopped by overfitting detector  (100 iterations wait)\n",
            "\n",
            "bestTest = 0.7926115291\n",
            "bestIteration = 265\n",
            "\n",
            "Shrink model to first 266 iterations.\n",
            "CV Log Loss Score: 0.792612\n",
            "\n",
            "----------------- Fold 7 -----------------\n",
            "\n",
            "0:\tlearn: 1.0838463\ttest: 1.0842050\tbest: 1.0842050 (0)\ttotal: 28ms\tremaining: 1m 17s\n",
            "100:\tlearn: 0.8492688\ttest: 0.8022401\tbest: 0.8017157 (85)\ttotal: 2.36s\tremaining: 1m 2s\n",
            "200:\tlearn: 0.8277118\ttest: 0.8008557\tbest: 0.7997485 (173)\ttotal: 5.71s\tremaining: 1m 12s\n",
            "300:\tlearn: 0.8093884\ttest: 0.8003432\tbest: 0.7990554 (282)\ttotal: 8.44s\tremaining: 1m 9s\n",
            "Stopped by overfitting detector  (100 iterations wait)\n",
            "\n",
            "bestTest = 0.799055447\n",
            "bestIteration = 282\n",
            "\n",
            "Shrink model to first 283 iterations.\n",
            "CV Log Loss Score: 0.799055\n",
            "\n",
            "----------------- Fold 8 -----------------\n",
            "\n",
            "0:\tlearn: 1.0838840\ttest: 1.0839276\tbest: 1.0839276 (0)\ttotal: 30.5ms\tremaining: 1m 24s\n",
            "100:\tlearn: 0.8495084\ttest: 0.8140544\tbest: 0.8133825 (89)\ttotal: 2.39s\tremaining: 1m 2s\n",
            "200:\tlearn: 0.8270372\ttest: 0.8117823\tbest: 0.8112068 (148)\ttotal: 5.12s\tremaining: 1m 5s\n",
            "300:\tlearn: 0.8087691\ttest: 0.8091125\tbest: 0.8078039 (284)\ttotal: 8.08s\tremaining: 1m 6s\n",
            "Stopped by overfitting detector  (100 iterations wait)\n",
            "\n",
            "bestTest = 0.8078038556\n",
            "bestIteration = 284\n",
            "\n",
            "Shrink model to first 285 iterations.\n",
            "CV Log Loss Score: 0.807804\n",
            "\n",
            "----------------- Fold 9 -----------------\n",
            "\n",
            "0:\tlearn: 1.0838414\ttest: 1.0839844\tbest: 1.0839844 (0)\ttotal: 30.3ms\tremaining: 1m 23s\n",
            "100:\tlearn: 0.8492787\ttest: 0.7956387\tbest: 0.7956387 (100)\ttotal: 2.32s\tremaining: 1m 1s\n",
            "200:\tlearn: 0.8279469\ttest: 0.7974782\tbest: 0.7950820 (160)\ttotal: 5.06s\tremaining: 1m 4s\n",
            "Stopped by overfitting detector  (100 iterations wait)\n",
            "\n",
            "bestTest = 0.7950820004\n",
            "bestIteration = 160\n",
            "\n",
            "Shrink model to first 161 iterations.\n",
            "CV Log Loss Score: 0.795082\n",
            "\n",
            "----------------- Fold 10 -----------------\n",
            "\n",
            "0:\tlearn: 1.0838249\ttest: 1.0841672\tbest: 1.0841672 (0)\ttotal: 30.1ms\tremaining: 1m 23s\n",
            "100:\tlearn: 0.8485638\ttest: 0.8259893\tbest: 0.8259893 (100)\ttotal: 2.29s\tremaining: 1m\n",
            "200:\tlearn: 0.8272289\ttest: 0.8267660\tbest: 0.8240990 (115)\ttotal: 5.05s\tremaining: 1m 4s\n",
            "Stopped by overfitting detector  (100 iterations wait)\n",
            "\n",
            "bestTest = 0.8240990133\n",
            "bestIteration = 115\n",
            "\n",
            "Shrink model to first 116 iterations.\n",
            "CV Log Loss Score: 0.824099\n",
            "\n",
            "----------------- Fold 11 -----------------\n",
            "\n",
            "0:\tlearn: 1.0838564\ttest: 1.0840945\tbest: 1.0840945 (0)\ttotal: 29.9ms\tremaining: 1m 22s\n",
            "100:\tlearn: 0.8495318\ttest: 0.8142531\tbest: 0.8141622 (99)\ttotal: 2.31s\tremaining: 1m\n",
            "200:\tlearn: 0.8275155\ttest: 0.8111076\tbest: 0.8109777 (194)\ttotal: 4.96s\tremaining: 1m 3s\n",
            "300:\tlearn: 0.8083489\ttest: 0.8117125\tbest: 0.8108086 (241)\ttotal: 7.77s\tremaining: 1m 3s\n",
            "Stopped by overfitting detector  (100 iterations wait)\n",
            "\n",
            "bestTest = 0.8108086102\n",
            "bestIteration = 241\n",
            "\n",
            "Shrink model to first 242 iterations.\n",
            "CV Log Loss Score: 0.810809\n",
            "\n",
            "----------------- Fold 12 -----------------\n",
            "\n",
            "0:\tlearn: 1.0838116\ttest: 1.0842843\tbest: 1.0842843 (0)\ttotal: 32ms\tremaining: 1m 28s\n",
            "100:\tlearn: 0.8509809\ttest: 0.7761937\tbest: 0.7761937 (100)\ttotal: 2.41s\tremaining: 1m 3s\n",
            "200:\tlearn: 0.8289134\ttest: 0.7738562\tbest: 0.7738017 (199)\ttotal: 5.47s\tremaining: 1m 9s\n",
            "300:\tlearn: 0.8093856\ttest: 0.7728131\tbest: 0.7724162 (288)\ttotal: 8.24s\tremaining: 1m 7s\n",
            "Stopped by overfitting detector  (100 iterations wait)\n",
            "\n",
            "bestTest = 0.7724161559\n",
            "bestIteration = 288\n",
            "\n",
            "Shrink model to first 289 iterations.\n",
            "CV Log Loss Score: 0.772416\n",
            "\n",
            "----------------- Fold 13 -----------------\n",
            "\n",
            "0:\tlearn: 1.0838364\ttest: 1.0842653\tbest: 1.0842653 (0)\ttotal: 30.7ms\tremaining: 1m 24s\n",
            "100:\tlearn: 0.8484079\ttest: 0.7850890\tbest: 0.7843033 (93)\ttotal: 2.38s\tremaining: 1m 2s\n",
            "200:\tlearn: 0.8271835\ttest: 0.7839929\tbest: 0.7830300 (164)\ttotal: 5.07s\tremaining: 1m 4s\n",
            "Stopped by overfitting detector  (100 iterations wait)\n",
            "\n",
            "bestTest = 0.7830300158\n",
            "bestIteration = 164\n",
            "\n",
            "Shrink model to first 165 iterations.\n",
            "CV Log Loss Score: 0.783030\n",
            "\n",
            "----------------- Fold 14 -----------------\n",
            "\n",
            "0:\tlearn: 1.0839283\ttest: 1.0837676\tbest: 1.0837676 (0)\ttotal: 28.8ms\tremaining: 1m 19s\n",
            "100:\tlearn: 0.8493841\ttest: 0.8160296\tbest: 0.8152710 (83)\ttotal: 2.42s\tremaining: 1m 3s\n",
            "200:\tlearn: 0.8275556\ttest: 0.8149035\tbest: 0.8133758 (152)\ttotal: 5.14s\tremaining: 1m 5s\n",
            "Stopped by overfitting detector  (100 iterations wait)\n",
            "\n",
            "bestTest = 0.8133758011\n",
            "bestIteration = 152\n",
            "\n",
            "Shrink model to first 153 iterations.\n",
            "CV Log Loss Score: 0.813376\n",
            "\n",
            "----------------- Fold 15 -----------------\n",
            "\n",
            "0:\tlearn: 1.0838402\ttest: 1.0840597\tbest: 1.0840597 (0)\ttotal: 27.2ms\tremaining: 1m 15s\n",
            "100:\tlearn: 0.8496631\ttest: 0.8039998\tbest: 0.8039998 (100)\ttotal: 2.42s\tremaining: 1m 3s\n",
            "200:\tlearn: 0.8277265\ttest: 0.8036894\tbest: 0.8028976 (142)\ttotal: 5.18s\tremaining: 1m 6s\n",
            "Stopped by overfitting detector  (100 iterations wait)\n",
            "\n",
            "bestTest = 0.8028975797\n",
            "bestIteration = 142\n",
            "\n",
            "Shrink model to first 143 iterations.\n",
            "CV Log Loss Score: 0.802898\n",
            "\n",
            "----------------- Fold 16 -----------------\n",
            "\n",
            "0:\tlearn: 1.0838855\ttest: 1.0840323\tbest: 1.0840323 (0)\ttotal: 30.5ms\tremaining: 1m 24s\n",
            "100:\tlearn: 0.8485782\ttest: 0.8038313\tbest: 0.8037510 (99)\ttotal: 2.45s\tremaining: 1m 4s\n",
            "200:\tlearn: 0.8273483\ttest: 0.8051036\tbest: 0.8030803 (132)\ttotal: 5.15s\tremaining: 1m 5s\n",
            "Stopped by overfitting detector  (100 iterations wait)\n",
            "\n",
            "bestTest = 0.8030803284\n",
            "bestIteration = 132\n",
            "\n",
            "Shrink model to first 133 iterations.\n",
            "CV Log Loss Score: 0.803080\n",
            "\n",
            "----------------- Fold 17 -----------------\n",
            "\n",
            "0:\tlearn: 1.0838686\ttest: 1.0839308\tbest: 1.0839308 (0)\ttotal: 29.2ms\tremaining: 1m 20s\n",
            "100:\tlearn: 0.8502728\ttest: 0.8082684\tbest: 0.8074958 (81)\ttotal: 2.3s\tremaining: 1m\n",
            "200:\tlearn: 0.8281120\ttest: 0.8074881\tbest: 0.8062399 (128)\ttotal: 4.97s\tremaining: 1m 3s\n",
            "Stopped by overfitting detector  (100 iterations wait)\n",
            "\n",
            "bestTest = 0.8062399438\n",
            "bestIteration = 128\n",
            "\n",
            "Shrink model to first 129 iterations.\n",
            "CV Log Loss Score: 0.806240\n",
            "\n",
            "----------------- Fold 18 -----------------\n",
            "\n",
            "0:\tlearn: 1.0838309\ttest: 1.0839549\tbest: 1.0839549 (0)\ttotal: 27.5ms\tremaining: 1m 16s\n",
            "100:\tlearn: 0.8500031\ttest: 0.8275153\tbest: 0.8275153 (100)\ttotal: 2.47s\tremaining: 1m 5s\n",
            "200:\tlearn: 0.8285193\ttest: 0.8258074\tbest: 0.8254233 (195)\ttotal: 5.16s\tremaining: 1m 5s\n",
            "300:\tlearn: 0.8093401\ttest: 0.8269870\tbest: 0.8251734 (238)\ttotal: 7.93s\tremaining: 1m 4s\n",
            "Stopped by overfitting detector  (100 iterations wait)\n",
            "\n",
            "bestTest = 0.8251733727\n",
            "bestIteration = 238\n",
            "\n",
            "Shrink model to first 239 iterations.\n",
            "CV Log Loss Score: 0.825173\n",
            "\tLog Loss: 0.802977\n"
          ]
        }
      ]
    },
    {
      "cell_type": "markdown",
      "source": [
        "Feature Importance 시각화"
      ],
      "metadata": {
        "id": "CBZI0jP_Ifk0"
      }
    },
    {
      "cell_type": "code",
      "source": [
        "def plot_feature_importance(importance,names,model_type):\n",
        "    \n",
        "    feature_importance = np.array(importance)\n",
        "    feature_names = np.array(names)\n",
        "    \n",
        "    data={'feature_names':feature_names,'feature_importance':feature_importance}\n",
        "    fi_df = pd.DataFrame(data)\n",
        "    \n",
        "    fi_df.sort_values(by=['feature_importance'], ascending=False,inplace=True)\n",
        "\n",
        "    plt.figure(figsize=(10,8))\n",
        "\n",
        "    sns.barplot(x=fi_df['feature_importance'], y=fi_df['feature_names'])\n",
        "\n",
        "    plt.title(model_type + ' Feature Importance')\n",
        "    plt.xlabel('Feature Importance')\n",
        "    plt.ylabel('Feature Names')"
      ],
      "metadata": {
        "id": "V0nZkAvSOE7C"
      },
      "execution_count": 50,
      "outputs": []
    },
    {
      "cell_type": "code",
      "source": [
        "plot_feature_importance(model_cat.get_feature_importance(),X_test.columns,'CATBOOST')"
      ],
      "metadata": {
        "id": "eE1JOEkkOLKZ",
        "colab": {
          "base_uri": "https://localhost:8080/",
          "height": 513
        },
        "outputId": "ab37ea35-27c8-4e33-fadc-6ab33e72f46b"
      },
      "execution_count": 51,
      "outputs": [
        {
          "output_type": "display_data",
          "data": {
            "text/plain": [
              "<Figure size 720x576 with 1 Axes>"
            ],
            "image/png": "[encoded data removed]"
          },
          "metadata": {
            "needs_background": "light"
          }
        }
      ]
    },
    {
      "cell_type": "markdown",
      "source": [
        "submission 파일 제출"
      ],
      "metadata": {
        "id": "csetMxiKIiHe"
      }
    },
    {
      "cell_type": "code",
      "source": [
        "sample_submission = pd.read_csv(\"/content/drive/MyDrive/khu_dacon/open/sample_submission.csv\")"
      ],
      "metadata": {
        "id": "icxAFFJgOR9L"
      },
      "execution_count": 52,
      "outputs": []
    },
    {
      "cell_type": "code",
      "source": [
        "sample_submission.iloc[:, 1:] = cat_pred_test\n",
        "sample_submission"
      ],
      "metadata": {
        "id": "nAhF1GKlOTKq",
        "colab": {
          "base_uri": "https://localhost:8080/",
          "height": 424
        },
        "outputId": "f7efadc6-2696-4d95-d6fe-54ae35844c63"
      },
      "execution_count": 53,
      "outputs": [
        {
          "output_type": "execute_result",
          "data": {
            "text/plain": [
              "      index         0         1         2\n",
              "0     26457  0.848574  0.054664  0.096762\n",
              "1     26458  0.872347  0.125665  0.001988\n",
              "2     26459  0.633491  0.174171  0.192338\n",
              "3     26460  0.135840  0.566791  0.297369\n",
              "4     26461  0.272206  0.289565  0.438229\n",
              "...     ...       ...       ...       ...\n",
              "9995  36452  0.141384  0.821361  0.037255\n",
              "9996  36453  0.100033  0.288527  0.611440\n",
              "9997  36454  0.544319  0.431082  0.024599\n",
              "9998  36455  0.528523  0.178886  0.292591\n",
              "9999  36456  0.134399  0.667493  0.198108\n",
              "\n",
              "[10000 rows x 4 columns]"
            ],
            "text/html": [
              "\n",
              "  <div id=\"df-968d12e4-1b73-4b85-8db4-0e70d13f6073\">\n",
              "    <div class=\"colab-df-container\">\n",
              "      <div>\n",
              "<style scoped>\n",
              "    .dataframe tbody tr th:only-of-type {\n",
              "        vertical-align: middle;\n",
              "    }\n",
              "\n",
              "    .dataframe tbody tr th {\n",
              "        vertical-align: top;\n",
              "    }\n",
              "\n",
              "    .dataframe thead th {\n",
              "        text-align: right;\n",
              "    }\n",
              "</style>\n",
              "<table border=\"1\" class=\"dataframe\">\n",
              "  <thead>\n",
              "    <tr style=\"text-align: right;\">\n",
              "      <th></th>\n",
              "      <th>index</th>\n",
              "      <th>0</th>\n",
              "      <th>1</th>\n",
              "      <th>2</th>\n",
              "    </tr>\n",
              "  </thead>\n",
              "  <tbody>\n",
              "    <tr>\n",
              "      <th>0</th>\n",
              "      <td>26457</td>\n",
              "      <td>0.848574</td>\n",
              "      <td>0.054664</td>\n",
              "      <td>0.096762</td>\n",
              "    </tr>\n",
              "    <tr>\n",
              "      <th>1</th>\n",
              "      <td>26458</td>\n",
              "      <td>0.872347</td>\n",
              "      <td>0.125665</td>\n",
              "      <td>0.001988</td>\n",
              "    </tr>\n",
              "    <tr>\n",
              "      <th>2</th>\n",
              "      <td>26459</td>\n",
              "      <td>0.633491</td>\n",
              "      <td>0.174171</td>\n",
              "      <td>0.192338</td>\n",
              "    </tr>\n",
              "    <tr>\n",
              "      <th>3</th>\n",
              "      <td>26460</td>\n",
              "      <td>0.135840</td>\n",
              "      <td>0.566791</td>\n",
              "      <td>0.297369</td>\n",
              "    </tr>\n",
              "    <tr>\n",
              "      <th>4</th>\n",
              "      <td>26461</td>\n",
              "      <td>0.272206</td>\n",
              "      <td>0.289565</td>\n",
              "      <td>0.438229</td>\n",
              "    </tr>\n",
              "    <tr>\n",
              "      <th>...</th>\n",
              "      <td>...</td>\n",
              "      <td>...</td>\n",
              "      <td>...</td>\n",
              "      <td>...</td>\n",
              "    </tr>\n",
              "    <tr>\n",
              "      <th>9995</th>\n",
              "      <td>36452</td>\n",
              "      <td>0.141384</td>\n",
              "      <td>0.821361</td>\n",
              "      <td>0.037255</td>\n",
              "    </tr>\n",
              "    <tr>\n",
              "      <th>9996</th>\n",
              "      <td>36453</td>\n",
              "      <td>0.100033</td>\n",
              "      <td>0.288527</td>\n",
              "      <td>0.611440</td>\n",
              "    </tr>\n",
              "    <tr>\n",
              "      <th>9997</th>\n",
              "      <td>36454</td>\n",
              "      <td>0.544319</td>\n",
              "      <td>0.431082</td>\n",
              "      <td>0.024599</td>\n",
              "    </tr>\n",
              "    <tr>\n",
              "      <th>9998</th>\n",
              "      <td>36455</td>\n",
              "      <td>0.528523</td>\n",
              "      <td>0.178886</td>\n",
              "      <td>0.292591</td>\n",
              "    </tr>\n",
              "    <tr>\n",
              "      <th>9999</th>\n",
              "      <td>36456</td>\n",
              "      <td>0.134399</td>\n",
              "      <td>0.667493</td>\n",
              "      <td>0.198108</td>\n",
              "    </tr>\n",
              "  </tbody>\n",
              "</table>\n",
              "<p>10000 rows × 4 columns</p>\n",
              "</div>\n",
              "      <button class=\"colab-df-convert\" onclick=\"convertToInteractive('df-968d12e4-1b73-4b85-8db4-0e70d13f6073')\"\n",
              "              title=\"Convert this dataframe to an interactive table.\"\n",
              "              style=\"display:none;\">\n",
              "        \n",
              "  <svg xmlns=\"http://www.w3.org/2000/svg\" height=\"24px\"viewBox=\"0 0 24 24\"\n",
              "       width=\"24px\">\n",
              "    <path d=\"M0 0h24v24H0V0z\" fill=\"none\"/>\n",
              "    <path d=\"M18.56 5.44l.94 2.06.94-2.06 2.06-.94-2.06-.94-.94-2.06-.94 2.06-2.06.94zm-11 1L8.5 8.5l.94-2.06 2.06-.94-2.06-.94L8.5 2.5l-.94 2.06-2.06.94zm10 10l.94 2.06.94-2.06 2.06-.94-2.06-.94-.94-2.06-.94 2.06-2.06.94z\"/><path d=\"M17.41 7.96l-1.37-1.37c-.4-.4-.92-.59-1.43-.59-.52 0-1.04.2-1.43.59L10.3 9.45l-7.72 7.72c-.78.78-.78 2.05 0 2.83L4 21.41c.39.39.9.59 1.41.59.51 0 1.02-.2 1.41-.59l7.78-7.78 2.81-2.81c.8-.78.8-2.07 0-2.86zM5.41 20L4 18.59l7.72-7.72 1.47 1.35L5.41 20z\"/>\n",
              "  </svg>\n",
              "      </button>\n",
              "      \n",
              "  <style>\n",
              "    .colab-df-container {\n",
              "      display:flex;\n",
              "      flex-wrap:wrap;\n",
              "      gap: 12px;\n",
              "    }\n",
              "\n",
              "    .colab-df-convert {\n",
              "      background-color: #E8F0FE;\n",
              "      border: none;\n",
              "      border-radius: 50%;\n",
              "      cursor: pointer;\n",
              "      display: none;\n",
              "      fill: #1967D2;\n",
              "      height: 32px;\n",
              "      padding: 0 0 0 0;\n",
              "      width: 32px;\n",
              "    }\n",
              "\n",
              "    .colab-df-convert:hover {\n",
              "      background-color: #E2EBFA;\n",
              "      box-shadow: 0px 1px 2px rgba(60, 64, 67, 0.3), 0px 1px 3px 1px rgba(60, 64, 67, 0.15);\n",
              "      fill: #174EA6;\n",
              "    }\n",
              "\n",
              "    [theme=dark] .colab-df-convert {\n",
              "      background-color: #3B4455;\n",
              "      fill: #D2E3FC;\n",
              "    }\n",
              "\n",
              "    [theme=dark] .colab-df-convert:hover {\n",
              "      background-color: #434B5C;\n",
              "      box-shadow: 0px 1px 3px 1px rgba(0, 0, 0, 0.15);\n",
              "      filter: drop-shadow(0px 1px 2px rgba(0, 0, 0, 0.3));\n",
              "      fill: #FFFFFF;\n",
              "    }\n",
              "  </style>\n",
              "\n",
              "      <script>\n",
              "        const buttonEl =\n",
              "          document.querySelector('#df-968d12e4-1b73-4b85-8db4-0e70d13f6073 button.colab-df-convert');\n",
              "        buttonEl.style.display =\n",
              "          google.colab.kernel.accessAllowed ? 'block' : 'none';\n",
              "\n",
              "        async function convertToInteractive(key) {\n",
              "          const element = document.querySelector('#df-968d12e4-1b73-4b85-8db4-0e70d13f6073');\n",
              "          const dataTable =\n",
              "            await google.colab.kernel.invokeFunction('convertToInteractive',\n",
              "                                                     [key], {});\n",
              "          if (!dataTable) return;\n",
              "\n",
              "          const docLinkHtml = 'Like what you see? Visit the ' +\n",
              "            '<a target=\"_blank\" href=https://colab.research.google.com/notebooks/data_table.ipynb>data table notebook</a>'\n",
              "            + ' to learn more about interactive tables.';\n",
              "          element.innerHTML = '';\n",
              "          dataTable['output_type'] = 'display_data';\n",
              "          await google.colab.output.renderOutput(dataTable, element);\n",
              "          const docLink = document.createElement('div');\n",
              "          docLink.innerHTML = docLinkHtml;\n",
              "          element.appendChild(docLink);\n",
              "        }\n",
              "      </script>\n",
              "    </div>\n",
              "  </div>\n",
              "  "
            ]
          },
          "metadata": {},
          "execution_count": 53
        }
      ]
    },
    {
      "cell_type": "code",
      "source": [
        "sample_submission.to_csv(\"/content/drive/MyDrive/khu_dacon/open/cat_0518_optuna_19.csv\", index=False)"
      ],
      "metadata": {
        "id": "0klgfXIkOT8q"
      },
      "execution_count": null,
      "outputs": []
    },
    {
      "cell_type": "code",
      "source": [
        ""
      ],
      "metadata": {
        "id": "E3ME0G9NQ4lq"
      },
      "execution_count": null,
      "outputs": []
    }
  ]
}